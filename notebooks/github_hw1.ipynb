{
  "nbformat": 4,
  "nbformat_minor": 0,
  "metadata": {
    "kernelspec": {
      "display_name": "Python 3",
      "language": "python",
      "name": "python3"
    },
    "language_info": {
      "codemirror_mode": {
        "name": "ipython",
        "version": 3
      },
      "file_extension": ".py",
      "mimetype": "text/x-python",
      "name": "python",
      "nbconvert_exporter": "python",
      "pygments_lexer": "ipython3",
      "version": "3.6.9"
    },
    "colab": {
      "name": "github_hw1.ipynb",
      "provenance": []
    }
  },
  "cells": [
    {
      "cell_type": "markdown",
      "metadata": {
        "id": "_IrJeavYUjSw"
      },
      "source": [
        "# Домашнее задание\n",
        "Домашнее задание выполнять в этой тетрадке. \n",
        "\n",
        "- [ ] Сделать fork репозитория cvr_cource (https://github.com/StarkitRobots/cvr_course) - 1 балл\n",
        "- [ ] Создать ветку update_readme - 1 балл\n",
        "- [ ] Добавить одну строчку в README.md \n",
        "- [ ] Запушить (git push) изменения в ветку update_readme - 3 балла\n",
        "- [ ] Слить (merge) ветку update_readme в ветку develop - 1 балл\n",
        "- [ ] Сохранить эту тетрадку с выполненной домашкой себе в репозиторий в ветку develop - 3 балла\n",
        "- [ ] Слить (merge) ветку develop в ветку main - 1 балл"
      ]
    },
    {
      "cell_type": "markdown",
      "metadata": {
        "id": "lkIoMgT4UjSy"
      },
      "source": [
        "Материалы к семинару:\n",
        "1. [Удачная модель ветвления](https://m.habr.com/ru/post/106912/)\n",
        "2. [Зачем нужен Git](https://guides.hexlet.io/git-guide/)\n",
        "3. [Самые популярные ошибки и их решения](https://tproger.ru/translations/most-common-git-screwupsquestions-and-solutions/)\n",
        "4. [Ветвление](https://git-scm.com/book/ru/v2/%D0%92%D0%B5%D1%82%D0%B2%D0%BB%D0%B5%D0%BD%D0%B8%D0%B5-%D0%B2-Git-%D0%9E-%D0%B2%D0%B5%D1%82%D0%B2%D0%BB%D0%B5%D0%BD%D0%B8%D0%B8-%D0%B2-%D0%B4%D0%B2%D1%83%D1%85-%D1%81%D0%BB%D0%BE%D0%B2%D0%B0%D1%85)\n",
        "5. [Инструкция по всему Git](https://git-scm.com/book/ru/v2)\n",
        "6. [Приложение для обучения Git](https://learngitbranching.js.org/?locale=ru_RU), спасибо Анне Касаткиной за ссылку на отличный материал"
      ]
    },
    {
      "cell_type": "markdown",
      "metadata": {
        "id": "b0lY7vhTU0hE"
      },
      "source": [
        "Отчет\n",
        "\n",
        "1. Создал ветку `update_readme` на Github:\n",
        "- открыл меню, в котором перключаются между ветками;\n",
        "- ввел в поле `Find or create a branch...` название ветки и нажал `Enter` на клавиатуре.\n",
        "2. Добавил строчку \n",
        "```bash\n",
        "Link to other courses https://www.starkitrobots.com/courses\n",
        "```\n",
        "в README.md. Отредактировал его на Github в ветке `update_readme` (поэтому не запушил изменения):\n",
        "- нажал на кнопку наподобие карандаша в правом верхнем углу файла README.md;\n",
        "- добавил строчку и нажал внизу на кнопку `Commit changes`.\n",
        "3. Слил ветку `update_readme` в ветку `develop`:\n",
        "- нажал на вкладку `Pull requests`;\n",
        "- нажал на кнопку `New pull request`;\n",
        "- выбрал в меню `base repository:` свою копию репозитория команды «Старкит»;\n",
        "- выбрал в меню `base:` ветку `develop` и в меню `compare:` ветку `update_readme`;\n",
        "- нажал на кнопку `Create pull request`, после нажал на нее же немного ниже;\n",
        "- нажал на кнопку `Merge pull request` и на кнопку `Confirm  merge`.\n",
        "4. Сохранил эту тетрадку (ноутбук) в ветку `Develop`:\n",
        "- нажал в меню сверху `Файл -> Создать копию в Github`;\n",
        "- в появившемся окне выбрал ветку `develop` и нажал на кнопку `OK`.\n",
        "5. Слил ветку `develop` в ветку `main` так же, как слил ветку `update_readme` в ветку `develop`."
      ]
    }
  ]
}